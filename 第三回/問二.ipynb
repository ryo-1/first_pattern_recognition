{
 "cells": [
  {
   "cell_type": "code",
   "execution_count": 1,
   "metadata": {},
   "outputs": [
    {
     "name": "stderr",
     "output_type": "stream",
     "text": [
      "C:\\Users\\RAKUS\\Anaconda3\\lib\\site-packages\\ipykernel\\parentpoller.py:116: UserWarning: Parent poll failed.  If the frontend dies,\n",
      "                the kernel may be left running.  Please let us know\n",
      "                about your system (bitness, Python, etc.) at\n",
      "                ipython-dev@scipy.org\n",
      "  ipython-dev@scipy.org\"\"\")\n"
     ]
    }
   ],
   "source": [
    "%matplotlib inline\n",
    "import pandas as pd\n",
    "import numpy as np\n",
    "import matplotlib.pyplot as plt\n",
    "import seaborn as sns"
   ]
  },
  {
   "cell_type": "code",
   "execution_count": 2,
   "metadata": {},
   "outputs": [],
   "source": [
    "def make_X(mu, sigme, size):\n",
    "    X = np.random.multivariate_normal(mu, sigme, size)\n",
    "    return X"
   ]
  },
  {
   "cell_type": "code",
   "execution_count": 3,
   "metadata": {},
   "outputs": [],
   "source": [
    "def identification_boundary(XX, mu, sigma, pi):\n",
    "    sigma1 = sigma[0]\n",
    "    sigma2 = sigma[1]\n",
    "    mu1 = mu[0]\n",
    "    mu2 = mu[1]\n",
    "    pi1 = pi[0]\n",
    "    pi2 = pi[1]\n",
    "    \n",
    "    S = np.linalg.inv(sigma1) - np.linalg.inv(sigma2)\n",
    "    cT = mu2.T.dot(np.linalg.inv(sigma2)) - mu1.T.dot(np.linalg.inv(sigma1))\n",
    "    F = mu1.T.dot(np.linalg.inv(sigma1)).dot(mu1) - mu2.T.dot(np.linalg.inv(sigma2)).dot(mu2) + (np.log(np.linalg.det(sigma1)/np.linalg.det(sigma2))) - (2*np.log(pi1/pi2))\n",
    "    \n",
    "    return XX.T.dot(S).dot(XX) + (2*cT.reshape(1,2).dot(XX)) + F"
   ]
  },
  {
   "cell_type": "code",
   "execution_count": 4,
   "metadata": {},
   "outputs": [],
   "source": [
    "X1=0\n",
    "X2=0\n",
    "\n",
    "def make_data(mu, sigma, pi, size):\n",
    "    global X1\n",
    "    global X2\n",
    "    \n",
    "    sigma1 = sigma[0]\n",
    "    sigma2 = sigma[1]\n",
    "    mu1 = mu[0]\n",
    "    mu2 = mu[1]\n",
    "    pi1 = pi[0]\n",
    "    pi2 = pi[1]\n",
    "\n",
    "    X1 = make_X(mu1, sigma1, int(size*pi1))\n",
    "    Y1 = np.full((1,len(X1)), 1)\n",
    "    X2 = make_X(mu2, sigma2, int(size*pi2))\n",
    "    Y2 = np.full((1,len(X1)), 0)\n",
    "    \n",
    "    X = np.vstack((X1,X2))\n",
    "    Y = np.vstack((Y1,Y2))\n",
    "\n",
    "    plt.scatter(X1[:,0], X1[:,1])\n",
    "    plt.scatter(X2[:,0], X2[:,1])\n",
    "\n",
    "    return X, Y.reshape(-1,1)"
   ]
  },
  {
   "cell_type": "code",
   "execution_count": 5,
   "metadata": {},
   "outputs": [],
   "source": [
    "def make_glaf(MU1, MU2, SIGMA1, SIGMA2, PI1):\n",
    "    global X1\n",
    "    global X2\n",
    "    \n",
    "    etea = 1\n",
    "    PI2 = 1 - PI1\n",
    "    size = 100000\n",
    "    \n",
    "    X, Y = make_data((MU1, MU2), (SIGMA1, SIGMA2), (PI1, PI2), size)\n",
    "    X = np.hstack((X,np.ones(len(X)).reshape(-1,1)))\n",
    "    Y = (2*Y - np.ones(len(Y)).reshape(-1,1))\n",
    "\n",
    "    W = 0\n",
    "    W = np.random.randint(1000,10000,(3,1))\n",
    "\n",
    "    j =0\n",
    "    true_count = 0\n",
    "    while(true_count != len(X)):\n",
    "        true_count = 0\n",
    "\n",
    "        if j == 20:\n",
    "            break\n",
    "            \n",
    "        j+=1\n",
    "        print(j,W[2])\n",
    "        print(-W[2]/W[1])\n",
    "\n",
    "        for i in range(len(X)):\n",
    "            y = W.T.dot(X[i])\n",
    "\n",
    "            if y*Y[i] >= 0:\n",
    "                true_count += 1\n",
    "            else:\n",
    "                W = W.reshape(3,1) + (etea*X[i] * Y[i]).reshape(3,1)\n",
    "\n",
    "            x1 = np.arange(X[:,0].min(), X[:,0].max(), 5)\n",
    "\n",
    "            x2 = -(W[0]*x1 + W[2]) / W[1]\n",
    "            \n",
    "        plt.plot(x1,x2)\n",
    "    \n",
    "    plt.scatter(X1[:,0], X1[:,1])\n",
    "    plt.scatter(X2[:,0], X2[:,1])\n",
    "    plt.show()\n",
    "    x1 = np.arange(X[:,0].min(), X[:,0].max(), 5)\n",
    "    x2 = -(W[0]*x1 + W[2]) / W[1]\n",
    "    \n",
    "    plt.scatter(X1[:,0], X1[:,1])\n",
    "    plt.scatter(X2[:,0], X2[:,1])\n",
    "    plt.plot(x1,x2)\n",
    "    #plt.ylim(X[:,:2].min(),X[:,:2].max())\n",
    "    #plt.xlim(-5,5)\n",
    "\n",
    "\n",
    "    plt.show()"
   ]
  },
  {
   "cell_type": "code",
   "execution_count": null,
   "metadata": {
    "scrolled": false
   },
   "outputs": [
    {
     "name": "stdout",
     "output_type": "stream",
     "text": [
      "1 [4601]\n",
      "[-0.90499607]\n",
      "2 [-17.]\n",
      "[-18.49609572]\n",
      "3 [-54.]\n",
      "[15.15858881]\n"
     ]
    }
   ],
   "source": [
    "MU1 = np.array([-50, 60])\n",
    "SIGMA1 = np.array([[10, 5], [5, 10]])\n",
    "PI1 = 0.5\n",
    "MU2 = np.array([0, 0])\n",
    "SIGMA2 = np.array([[10, 5], [5, 10]])\n",
    "\n",
    "make_glaf(MU1, MU2, SIGMA1, SIGMA2, PI1)"
   ]
  },
  {
   "cell_type": "code",
   "execution_count": null,
   "metadata": {},
   "outputs": [],
   "source": []
  }
 ],
 "metadata": {
  "kernelspec": {
   "display_name": "Python 3",
   "language": "python",
   "name": "python3"
  },
  "language_info": {
   "codemirror_mode": {
    "name": "ipython",
    "version": 3
   },
   "file_extension": ".py",
   "mimetype": "text/x-python",
   "name": "python",
   "nbconvert_exporter": "python",
   "pygments_lexer": "ipython3",
   "version": "3.6.7"
  }
 },
 "nbformat": 4,
 "nbformat_minor": 2
}
