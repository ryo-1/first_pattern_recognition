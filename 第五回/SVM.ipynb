{
 "cells": [
  {
   "cell_type": "code",
   "execution_count": 1,
   "metadata": {},
   "outputs": [],
   "source": [
    "from __future__ import print_function\n",
    "\n",
    "import itertools\n",
    "\n",
    "import numpy as np\n",
    "\n",
    "from sklearn import svm\n",
    "\n",
    "import matplotlib.pyplot as plt\n",
    "%matplotlib inline"
   ]
  },
  {
   "cell_type": "code",
   "execution_count": 2,
   "metadata": {},
   "outputs": [],
   "source": [
    "def make_X(mu, sigme, size):\n",
    "    X = np.random.multivariate_normal(mu, sigme, size)\n",
    "    return X"
   ]
  },
  {
   "cell_type": "code",
   "execution_count": 3,
   "metadata": {},
   "outputs": [],
   "source": [
    "X1=0\n",
    "X2=0\n",
    "\n",
    "def make_data(mu, sigma, pi, size):\n",
    "    global X1\n",
    "    global X2\n",
    "    \n",
    "    sigma1 = sigma[0]\n",
    "    sigma2 = sigma[1]\n",
    "    mu1 = mu[0]\n",
    "    mu2 = mu[1]\n",
    "    pi1 = pi[0]\n",
    "    pi2 = pi[1]\n",
    "\n",
    "    X1_1 = make_X(mu1, sigma1, int(size*pi1))\n",
    "    X1_2 = make_X(-mu1, sigma1, int(size*pi1))\n",
    "    X1 = np.vstack((X1_1,X1_2))\n",
    "    Y1 = np.full((1,len(X1)), 1)\n",
    "    X2_1 = make_X(mu2, sigma2, int(size*pi2))\n",
    "    X2_2 = make_X(-mu2, sigma2, int(size*pi2))\n",
    "    X2 = np.vstack((X2_1,X2_2))\n",
    "    Y2 = np.full((1,len(X2)), 0)\n",
    "    \n",
    "    X = np.vstack((X1,X2))\n",
    "    Y = np.vstack((Y1,Y2))\n",
    "\n",
    "    plt.scatter(X1[:,0], X1[:,1])\n",
    "    plt.scatter(X2[:,0], X2[:,1])\n",
    "\n",
    "    return X, Y.reshape(-1,1)"
   ]
  },
  {
   "cell_type": "code",
   "execution_count": 20,
   "metadata": {},
   "outputs": [
    {
     "name": "stderr",
     "output_type": "stream",
     "text": [
      "C:\\Users\\RAKUS\\Anaconda3\\lib\\site-packages\\sklearn\\utils\\validation.py:761: DataConversionWarning: A column-vector y was passed when a 1d array was expected. Please change the shape of y to (n_samples, ), for example using ravel().\n",
      "  y = column_or_1d(y, warn=True)\n",
      "C:\\Users\\RAKUS\\Anaconda3\\lib\\site-packages\\matplotlib\\contour.py:1243: UserWarning: No contour levels were found within the data range.\n",
      "  warnings.warn(\"No contour levels were found\"\n"
     ]
    },
    {
     "data": {
      "image/png": "[encoded data removed]",
      "text/plain": [
       "<Figure size 432x288 with 1 Axes>"
      ]
     },
     "metadata": {
      "needs_background": "light"
     },
     "output_type": "display_data"
    }
   ],
   "source": [
    "MU1 = np.array([50, 60])\n",
    "SIGMA1 = np.array([[10, 5], [5, 10]])\n",
    "PI1 = 0.5\n",
    "MU2 = np.array([-50, 60])\n",
    "SIGMA2 = np.array([[10, 5], [5, 10]])\n",
    "PI2 = 1-PI1\n",
    "size = 1000\n",
    "\n",
    "# 特徴ベクトルと正解ラベル\n",
    "X, Y = make_data((MU1, MU2), (SIGMA1, SIGMA2), (PI1, PI2), size)\n",
    "\n",
    "# 線形なSVMによる分類器（ソフトマージンにおける定数はC=1.）\n",
    "#clf = svm.SVC(kernel='linear', C=1.)\n",
    "clf = svm.SVC(kernel='rbf', gamma=0.001)\n",
    "#clf = svm.SVC(kernel = 'poly', degree = 2, C = 1)\n",
    "\n",
    "# 訓練データによる学習（超平面の決定）\n",
    "clf.fit(X, Y)\n",
    "\n",
    "\n",
    "XX1 = np.linspace(X[:,0].min(),X[:,0].max(),100)\n",
    "XX2 = np.linspace(X[:,1].min(),X[:,1].max(),100)\n",
    "XX1_grid, XX2_grid = np.meshgrid(XX1, XX2)\n",
    "XX_grid = np.vstack((XX1_grid.flatten(),XX2_grid.flatten()))\n",
    "\n",
    "\n",
    "# テストデータの分類\n",
    "test_y = clf.predict(XX_grid.T)\n",
    "\n",
    "cont = plt.contour(XX1, XX2, test_y.T.reshape((XX1.shape[0], XX1.shape[0])), levels=[0])\n",
    "cont.clabel(fmt='%1.1f', fontsize=14)\n",
    "\n",
    "\n",
    "plt.show()"
   ]
  },
  {
   "cell_type": "code",
   "execution_count": null,
   "metadata": {},
   "outputs": [],
   "source": []
  }
 ],
 "metadata": {
  "kernelspec": {
   "display_name": "Python 3",
   "language": "python",
   "name": "python3"
  },
  "language_info": {
   "codemirror_mode": {
    "name": "ipython",
    "version": 3
   },
   "file_extension": ".py",
   "mimetype": "text/x-python",
   "name": "python",
   "nbconvert_exporter": "python",
   "pygments_lexer": "ipython3",
   "version": "3.6.7"
  }
 },
 "nbformat": 4,
 "nbformat_minor": 2
}
